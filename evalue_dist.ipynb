{
 "cells": [
  {
   "cell_type": "code",
   "execution_count": 89,
   "id": "64416fd2-7ae4-413a-a04e-f486001784ef",
   "metadata": {},
   "outputs": [
    {
     "name": "stderr",
     "output_type": "stream",
     "text": [
      "100%|█████████████████████████████████████████████████████████████████████████████████████████████████████████████████████████████████| 27625/27625 [00:02<00:00, 11098.61it/s]\n"
     ]
    }
   ],
   "source": [
    "# Read gtf file\n",
    "with open(\"./Viola.gtf\") as f:\n",
    "    gene_chr = {}\n",
    "    for line in f:\n",
    "        if line.startswith('#'):\n",
    "            continue\n",
    "        else:\n",
    "            line = line.strip().split('\\t')\n",
    "            if line[2] == 'transcript':\n",
    "                gene_chr[line[8].strip()] = line[0].strip()\n",
    "\n",
    "with open(\"./Viola.gtf\") as f:\n",
    "    chr_gene = {}\n",
    "    for line in f:\n",
    "        if line.startswith(\"#\"):\n",
    "            continue\n",
    "        else:\n",
    "            line = line.strip().split(\"\\t\")\n",
    "            if line[2] == \"transcript\":\n",
    "                if line[0] not in chr_gene:\n",
    "                    chr_gene[line[0]] = []\n",
    "                chr_gene[line[0]].append(line[8].strip())\n",
    "\n",
    "# Read synteny file\n",
    "gene_pool = set()\n",
    "with open(\"./Viola.Viola.anchors\") as f:\n",
    "    for line in f:\n",
    "        if line.startswith(\"#\"):\n",
    "            continue\n",
    "        line = line.strip().split(\"\\t\")\n",
    "        gene_pool.add(line[0]); gene_pool.add(line[1])\n",
    "\n",
    "with open(\"./Viola.Viola.anchors\") as f:\n",
    "    synteny = [] # {}\n",
    "    block = set()\n",
    "    for line in f:\n",
    "        if line.startswith(\"#\"):\n",
    "            synteny.append(block)\n",
    "            block = set() # list\n",
    "            continue\n",
    "        line = line.strip().split(\"\\t\")\n",
    "        block.add(line[0]); block.add(line[1]) # block.append([line[0], line[1]])\n",
    "        \"\"\"\n",
    "        if gene_chr[block[0][0]] not in synteny:\n",
    "            synteny[gene_chr[block[0][0]]] = []\n",
    "        if gene_chr[block[0][1]] not in synteny:\n",
    "            synteny[gene_chr[block[0][1]]] = []\n",
    "        \"\"\"\n",
    "    del synteny[0]\n",
    "    synteny.append(block)\n",
    "\n",
    "#pprint(synteny[:5])\n",
    "\"\"\"\n",
    "# Count the number of synteny blocks\n",
    "print(\"number of syntenic genes per scaffold\")\n",
    "print(\" \")\n",
    "for key in sorted(synteny.keys(), key = lambda x: int(x.split(\"_\")[2])):\n",
    "    print(key, len(synteny[key]), len(chr_gene[key]), sep=\"\\t\")\n",
    "\"\"\"\n",
    "\n",
    "\"\"\"\n",
    "print(\"====================\")\n",
    "# print(\"gene pairs\", sum(list(map(len, synteny.values()))) // 2, sep=\"\\t\")\n",
    "print(\"number of syntenic genes\", len(gene_pool), sep=\"\\t\")\n",
    "print(\"number of single copy genes\", sum(list(map(len, chr_gene.values()))) - len(gene_pool), sep=\"\\t\")\n",
    "print(\"gene number\", sum(list(map(len, chr_gene.values()))), sep=\"\\t\\t\")\n",
    "\"\"\"\n",
    "# pprint(synteny)\n",
    "# print(\"++++++++++++++++++++++++\")\n",
    "\n",
    "from tqdm import tqdm\n",
    "count = {}\n",
    "for query in tqdm(gene_pool):\n",
    "    cnt = 0\n",
    "    for subject_block in synteny:\n",
    "        if query in subject_block: \n",
    "            # print(subject_block)\n",
    "            cnt+=1\n",
    "    count[query] = cnt"
   ]
  },
  {
   "cell_type": "code",
   "execution_count": 92,
   "id": "27ca41a1-8ac4-47f0-90fe-1b9e5113f0ba",
   "metadata": {},
   "outputs": [
    {
     "name": "stdout",
     "output_type": "stream",
     "text": [
      "g31054.t1 15\n",
      "g6955.t1 15\n",
      "1\t27095\n",
      "2\t314\n",
      "3\t96\n",
      "4\t45\n",
      "5\t17\n",
      "6\t13\n",
      "7\t8\n",
      "8\t7\n",
      "9\t10\n",
      "10\t3\n",
      "11\t5\n",
      "12\t6\n",
      "13\t2\n",
      "14\t2\n",
      "15\t2\n"
     ]
    }
   ],
   "source": [
    "dup = {}\n",
    "for k, v in count.items():\n",
    "    if v not in dup: dup[v] = 0\n",
    "    dup[v] +=1\n",
    "    if v == 15: print(k, v)\n",
    "for k, v in sorted(dup.items()):\n",
    "    print(k, v, sep=\"\\t\")"
   ]
  },
  {
   "cell_type": "code",
   "execution_count": null,
   "id": "e28ca1d0-42c0-409f-ad89-f5e56db26ca3",
   "metadata": {},
   "outputs": [],
   "source": []
  },
  {
   "cell_type": "code",
   "execution_count": null,
   "id": "db01b83b-95f8-44a0-8c1c-1b101380c88e",
   "metadata": {},
   "outputs": [],
   "source": []
  },
  {
   "cell_type": "code",
   "execution_count": null,
   "id": "5a24cec2-5909-48cd-9f13-271ec19f2886",
   "metadata": {},
   "outputs": [],
   "source": []
  },
  {
   "cell_type": "code",
   "execution_count": 95,
   "id": "de106a0c-d5a7-4e17-ad35-e454ec364d0d",
   "metadata": {},
   "outputs": [],
   "source": [
    "target = {}\n",
    "with open(\"./self.m8\") as f:\n",
    "    for line in f:\n",
    "        line = line.strip().split(\"\\t\")\n",
    "        target[line[0]] = float(line[-2])\n",
    "        #target[(line[1], line[0])] = float(line[-2])"
   ]
  },
  {
   "cell_type": "code",
   "execution_count": 101,
   "id": "5a7b0224-4a40-4899-8146-8ef82c2387e8",
   "metadata": {},
   "outputs": [
    {
     "name": "stdout",
     "output_type": "stream",
     "text": [
      "27625 4524 83.62352941176471\n"
     ]
    }
   ],
   "source": [
    "import numpy as np\n",
    "value = []\n",
    "cnt = 0\n",
    "total = 0\n",
    "for i in gene_pool:\n",
    "    total += 1\n",
    "    if target[i] !=0 :\n",
    "        cnt += 1\n",
    "        value.append(np.log10(target[i]))\n",
    "print(total, total-cnt, cnt / total * 100)"
   ]
  },
  {
   "cell_type": "code",
   "execution_count": 100,
   "id": "3ceea222-f9f7-4920-9611-3a69f8ea8ef9",
   "metadata": {},
   "outputs": [
    {
     "data": {
      "text/plain": [
       "<AxesSubplot:ylabel='Count'>"
      ]
     },
     "execution_count": 100,
     "metadata": {},
     "output_type": "execute_result"
    },
    {
     "data": {
      "image/png": "[encoded data removed]",
      "text/plain": [
       "<Figure size 640x480 with 1 Axes>"
      ]
     },
     "metadata": {},
     "output_type": "display_data"
    }
   ],
   "source": [
    "import seaborn as sns\n",
    "import numpy as np\n",
    "sns.histplot(value)"
   ]
  },
  {
   "cell_type": "code",
   "execution_count": null,
   "id": "4882b6f1-5d9b-47ad-9048-b211c338a759",
   "metadata": {},
   "outputs": [],
   "source": []
  }
 ],
 "metadata": {
  "kernelspec": {
   "display_name": "Python 3 (ipykernel)",
   "language": "python",
   "name": "python3"
  },
  "language_info": {
   "codemirror_mode": {
    "name": "ipython",
    "version": 3
   },
   "file_extension": ".py",
   "mimetype": "text/x-python",
   "name": "python",
   "nbconvert_exporter": "python",
   "pygments_lexer": "ipython3",
   "version": "3.10.6"
  }
 },
 "nbformat": 4,
 "nbformat_minor": 5
}
