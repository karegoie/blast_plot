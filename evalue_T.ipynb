{
 "cells": [
  {
   "cell_type": "code",
   "execution_count": 60,
   "id": "1cd12104-9e82-4985-bffe-686360f23ca9",
   "metadata": {},
   "outputs": [],
   "source": [
    "T = 300\n",
    "\n",
    "with open(\"output.blast\", \"r\") as f:\n",
    "    with open(f\"ref.{T}.blast\", \"w\") as g:\n",
    "        for line in f:\n",
    "            if float(line.strip().split(\"\\t\")[10]) <= T:\n",
    "                g.write(line)"
   ]
  },
  {
   "cell_type": "code",
   "execution_count": 16,
   "id": "3752c530-13bf-4e66-afb2-86b82fbf3aa2",
   "metadata": {},
   "outputs": [],
   "source": [
    "!awk -F ' ' '{print $1\"\\t\"$2\"\\t\"$3\"\\t\"$4\"\\t\"$5\"\\t\"$6}' populus_satellite.txt > populus_satellite.bed"
   ]
  },
  {
   "cell_type": "code",
   "execution_count": 17,
   "id": "00b2283f-034d-4c4d-b314-8c0c70ae6ba2",
   "metadata": {},
   "outputs": [],
   "source": [
    "!awk -F ' ' '{print $1\"\\t\"$2\"\\t\"$3\"\\t\"$4\"\\t\"$5\"\\t\"$6}' viola_satellite.txt > viola_satellite.bed"
   ]
  },
  {
   "cell_type": "code",
   "execution_count": 30,
   "id": "02593528-1b2e-414d-8630-ced689184cb7",
   "metadata": {},
   "outputs": [
    {
     "name": "stdout",
     "output_type": "stream",
     "text": [
      "<_io.TextIOWrapper name='<stderr>' mode='w' encoding='utf-8'> A total of 1 dots to output.\n",
      "[('populus#circ293-8641', 0.0, True)]\n",
      "<_io.TextIOWrapper name='<stderr>' mode='w' encoding='utf-8'> print image to `output.png`\n"
     ]
    }
   ],
   "source": [
    "!python3 blast_plot.py output.blast --qbed populus_satellite.bed --sbed viola_satellite.bed --format=png"
   ]
  },
  {
   "cell_type": "code",
   "execution_count": null,
   "id": "4e75f5b1-b2b1-4567-b4e4-289392574f6c",
   "metadata": {},
   "outputs": [],
   "source": []
  }
 ],
 "metadata": {
  "kernelspec": {
   "display_name": "Python 3 (ipykernel)",
   "language": "python",
   "name": "python3"
  },
  "language_info": {
   "codemirror_mode": {
    "name": "ipython",
    "version": 3
   },
   "file_extension": ".py",
   "mimetype": "text/x-python",
   "name": "python",
   "nbconvert_exporter": "python",
   "pygments_lexer": "ipython3",
   "version": "3.10.6"
  }
 },
 "nbformat": 4,
 "nbformat_minor": 5
}
